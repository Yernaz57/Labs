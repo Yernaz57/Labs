{
  "nbformat": 4,
  "nbformat_minor": 0,
  "metadata": {
    "colab": {
      "name": "Untitled0.ipynb",
      "provenance": [],
      "include_colab_link": true
    },
    "kernelspec": {
      "name": "python3",
      "display_name": "Python 3"
    }
  },
  "cells": [
    {
      "cell_type": "markdown",
      "metadata": {
        "id": "view-in-github",
        "colab_type": "text"
      },
      "source": [
        "<a href=\"https://colab.research.google.com/github/Yernaz57/Labs/blob/master/IRIS_KNN.ipynb\" target=\"_parent\"><img src=\"https://colab.research.google.com/assets/colab-badge.svg\" alt=\"Open In Colab\"/></a>"
      ]
    },
    {
      "cell_type": "code",
      "metadata": {
        "id": "a9CQvlTFxcdv",
        "colab_type": "code",
        "colab": {
          "base_uri": "https://localhost:8080/",
          "height": 34
        },
        "outputId": "35fcd425-d3c1-4ebd-80b1-b5b9e433d9a7"
      },
      "source": [
        "\n",
        "import numpy as np\n",
        "from sklearn import datasets\n",
        "from sklearn.neighbors import KNeighborsClassifier\n",
        "\n",
        "iris = datasets.load_iris()\n",
        "iris_X = iris.data\n",
        "iris_y = iris.target\n",
        "np.unique(iris_y)"
      ],
      "execution_count": 4,
      "outputs": [
        {
          "output_type": "execute_result",
          "data": {
            "text/plain": [
              "array([0, 1, 2])"
            ]
          },
          "metadata": {
            "tags": []
          },
          "execution_count": 4
        }
      ]
    },
    {
      "cell_type": "code",
      "metadata": {
        "id": "qjeCAMJnxmxP",
        "colab_type": "code",
        "colab": {
          "base_uri": "https://localhost:8080/",
          "height": 34
        },
        "outputId": "ad635254-8ab8-4e8b-d5e1-ccad892a64dd"
      },
      "source": [
        "np.random.seed(0)\n",
        "\n",
        "indices = np.random.permutation(len(iris_X))\n",
        "iris_X_train = iris_X[indices[:-10]]\n",
        "iris_y_train = iris_y[indices[:-10]]\n",
        "iris_X_test = iris_X[indices[-10:]]\n",
        "iris_y_test = iris_y[indices[-10:]]\n",
        "\n",
        "\n",
        "knn = KNeighborsClassifier()\n",
        "knn.fit(iris_X_train, iris_y_train) \n",
        "\n",
        "KNeighborsClassifier(algorithm='auto', leaf_size=30, metric='minkowski',\n",
        "           metric_params=None, n_jobs=None, n_neighbors=5, p=2,\n",
        "           weights='uniform')\n",
        "knn.predict(iris_X_test)\n",
        "\n",
        "\n",
        "iris_y_test"
      ],
      "execution_count": 11,
      "outputs": [
        {
          "output_type": "execute_result",
          "data": {
            "text/plain": [
              "array([1, 1, 1, 0, 0, 0, 2, 1, 2, 0])"
            ]
          },
          "metadata": {
            "tags": []
          },
          "execution_count": 11
        }
      ]
    }
  ]
}